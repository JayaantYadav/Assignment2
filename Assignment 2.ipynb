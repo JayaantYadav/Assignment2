{
 "cells": [
  {
   "cell_type": "markdown",
   "id": "d9fde817-35fb-4e5e-913d-67128d59deee",
   "metadata": {},
   "source": [
    "Explain with an example each when to use a for loop and a while loop. "
   ]
  },
  {
   "cell_type": "markdown",
   "id": "0a6108c4-e397-41f3-a229-c58974c6df48",
   "metadata": {},
   "source": [
    "For loop: A for loop is a control flow statement that executes code repeatedly for a particular number of iterations. \n",
    "          In this control flow statement, the keyword used is for. The for loop is used when the number of iterations \n",
    "          is already known."
   ]
  },
  {
   "cell_type": "code",
   "execution_count": 1,
   "id": "d8ec45de-efc2-4e7f-8b6e-901dc8b44edb",
   "metadata": {},
   "outputs": [
    {
     "name": "stdout",
     "output_type": "stream",
     "text": [
      "1\n",
      "2\n",
      "3\n"
     ]
    }
   ],
   "source": [
    "# For Loop Example :\n",
    "n = [1,2,3]\n",
    "for i in n:\n",
    "    print(i)"
   ]
  },
  {
   "cell_type": "markdown",
   "id": "736f5dac-64ab-4303-9f0a-3ea7799c395f",
   "metadata": {},
   "source": [
    "While loop: A loop that executes a single statement or a group of statements for the given true condition. \n",
    "            The keyword used to represent this loop is \"while\". A \"while\" loop is used when the number of iterations is unknown. \n",
    "            The statement repeats itself till the boolean value becomes false."
   ]
  },
  {
   "cell_type": "code",
   "execution_count": 2,
   "id": "ec0f606c-b337-4404-bdbb-e1890050c098",
   "metadata": {},
   "outputs": [
    {
     "name": "stdout",
     "output_type": "stream",
     "text": [
      "1\n",
      "2\n",
      "3\n",
      "4\n",
      "5\n",
      "6\n"
     ]
    }
   ],
   "source": [
    "# While Loop Example :\n",
    "i = 1  \n",
    "while i <= 6:  \n",
    "    print(i)\n",
    "    i = i+ 1  "
   ]
  },
  {
   "cell_type": "markdown",
   "id": "1db92364-3582-40cf-8939-b94f0c3dc779",
   "metadata": {},
   "source": [
    "Write a python program to print the sum and product of the first 10 natural numbers using for and while loops."
   ]
  },
  {
   "cell_type": "code",
   "execution_count": 3,
   "id": "5cd4ae74-198a-4137-8ebf-3cdfae08ae94",
   "metadata": {},
   "outputs": [
    {
     "name": "stdin",
     "output_type": "stream",
     "text": [
      "Please Enter any Number:  10\n"
     ]
    },
    {
     "name": "stdout",
     "output_type": "stream",
     "text": [
      "55\n"
     ]
    }
   ],
   "source": [
    "# for Loop:\n",
    "number = int(input(\"Please Enter any Number: \"))\n",
    "total = 0\n",
    "\n",
    "for value in range(1, number + 1):\n",
    "    total = total + value\n",
    "print(total)\n",
    "\n"
   ]
  },
  {
   "cell_type": "code",
   "execution_count": 4,
   "id": "0c9339b8-30a9-4ac8-8e66-a08c126faac5",
   "metadata": {},
   "outputs": [
    {
     "name": "stdin",
     "output_type": "stream",
     "text": [
      "Please Enter any Number:  10\n"
     ]
    },
    {
     "name": "stdout",
     "output_type": "stream",
     "text": [
      "3628800\n"
     ]
    }
   ],
   "source": [
    "number = int(input(\"Please Enter any Number: \"))\n",
    "total = 1\n",
    "\n",
    "for value in range(1, number + 1):\n",
    "    total = total * value\n",
    "print(total)"
   ]
  },
  {
   "cell_type": "code",
   "execution_count": 5,
   "id": "5f397f23-35b7-4570-894b-f6828fbf7209",
   "metadata": {},
   "outputs": [
    {
     "name": "stdout",
     "output_type": "stream",
     "text": [
      "Enter the Value of 10 natural numbers: \n"
     ]
    },
    {
     "name": "stdin",
     "output_type": "stream",
     "text": [
      " 10\n"
     ]
    },
    {
     "name": "stdout",
     "output_type": "stream",
     "text": [
      "55\n"
     ]
    }
   ],
   "source": [
    "print(\"Enter the Value of 10 natural numbers: \")\n",
    "n = int(input())\n",
    "\n",
    "sum = 0\n",
    "i = 1\n",
    "while i<=n:\n",
    "  sum = sum+i\n",
    "  i = i+1\n",
    "\n",
    "print(sum)"
   ]
  },
  {
   "cell_type": "code",
   "execution_count": 6,
   "id": "e1f6302c-959c-448d-b41c-e06ffdf5c9c4",
   "metadata": {},
   "outputs": [
    {
     "name": "stdout",
     "output_type": "stream",
     "text": [
      "Enter the Value of 10 natural numbers: \n"
     ]
    },
    {
     "name": "stdin",
     "output_type": "stream",
     "text": [
      " 10\n"
     ]
    },
    {
     "name": "stdout",
     "output_type": "stream",
     "text": [
      "3628800\n"
     ]
    }
   ],
   "source": [
    "print(\"Enter the Value of 10 natural numbers: \")\n",
    "n = int(input())\n",
    "\n",
    "sum = 1\n",
    "i = 1\n",
    "while i<=n:\n",
    "  sum = sum*i\n",
    "  i = i+1\n",
    "\n",
    "print(sum)"
   ]
  },
  {
   "cell_type": "markdown",
   "id": "8fdd14df-20c2-4d9b-8355-5518ef384bf7",
   "metadata": {},
   "source": [
    "Create a python program to compute the electricity bill for a household.\n",
    "The per-unit charges in rupees are as follows: For the first 100 units, the user will be charged Rs. 4.5 per\n",
    "unit, for the next 100 units, the user will be charged Rs. 6 per unit, and for the next 100 units, the user will\n",
    "be charged Rs. 10 per unit, After 300 units and above the user will be charged Rs. 20 per unit.\n",
    "You are required to take the units of electricity consumed in a month from the user as input.\n",
    "Your program must pass this test case: when the unit of electricity consumed by the user in a month is\n",
    "310, the total electricity bill should be 2250."
   ]
  },
  {
   "cell_type": "code",
   "execution_count": 7,
   "id": "fbdfbc96-dac0-4ed1-9cd1-1aa7ac21c225",
   "metadata": {},
   "outputs": [
    {
     "name": "stdin",
     "output_type": "stream",
     "text": [
      "enter the unit 310\n"
     ]
    },
    {
     "name": "stdout",
     "output_type": "stream",
     "text": [
      "total electricity bill 2250\n"
     ]
    }
   ],
   "source": [
    "unit = int(input('enter the unit'))\n",
    "if unit <=100:\n",
    "    amount = unit*4.5\n",
    "elif unit >100 and unit <=200:\n",
    "    amount =450+(unit-100)*6\n",
    "elif unit >200 and unit <=300:\n",
    "    amount = 450+600+(unit-200)*10\n",
    "else:\n",
    "    amount  = 450+600+1000+(unit-300)*20\n",
    "total = amount\n",
    "print('total electricity bill', amount)"
   ]
  },
  {
   "cell_type": "markdown",
   "id": "c52e19ce-1614-464e-9218-8529b78d4107",
   "metadata": {},
   "source": [
    "Create a list of numbers from 1 to 100. Use for loop and while loop to calculate the cube of each\n",
    "number and if the cube of that number is divisible by 4 or 5 then append that number in a list and print\n",
    "that list."
   ]
  },
  {
   "cell_type": "code",
   "execution_count": 8,
   "id": "295870ea-9092-4e5e-873f-02d908fd87f6",
   "metadata": {},
   "outputs": [
    {
     "name": "stdout",
     "output_type": "stream",
     "text": [
      "[1, 8, 27, 64, 125, 216, 343, 512, 729, 1000, 1331, 1728, 2197, 2744, 3375, 4096, 4913, 5832, 6859, 8000, 9261, 10648, 12167, 13824, 15625, 17576, 19683, 21952, 24389, 27000, 29791, 32768, 35937, 39304, 42875, 46656, 50653, 54872, 59319, 64000, 68921, 74088, 79507, 85184, 91125, 97336, 103823, 110592, 117649, 125000, 132651, 140608, 148877, 157464, 166375, 175616, 185193, 195112, 205379, 216000, 226981, 238328, 250047, 262144, 274625, 287496, 300763, 314432, 328509, 343000, 357911, 373248, 389017, 405224, 421875, 438976, 456533, 474552, 493039, 512000, 531441, 551368, 571787, 592704, 614125, 636056, 658503, 681472, 704969, 729000, 753571, 778688, 804357, 830584, 857375, 884736, 912673, 941192, 970299]\n"
     ]
    }
   ],
   "source": [
    "list = []\n",
    "for i in range(1,100):\n",
    "    list.append(i**3)\n",
    "\n",
    "print(list)"
   ]
  },
  {
   "cell_type": "code",
   "execution_count": 9,
   "id": "9bb12b42-bf53-4b44-b4e8-90823b0cf670",
   "metadata": {},
   "outputs": [],
   "source": [
    "list1 = [i for i in list if i %4==0 or i%5==0]"
   ]
  },
  {
   "cell_type": "code",
   "execution_count": 10,
   "id": "814397e0-052b-4a68-a70f-b6e145d43597",
   "metadata": {},
   "outputs": [
    {
     "name": "stdout",
     "output_type": "stream",
     "text": [
      "[8, 64, 125, 216, 512, 1000, 1728, 2744, 3375, 4096, 5832, 8000, 10648, 13824, 15625, 17576, 21952, 27000, 32768, 39304, 42875, 46656, 54872, 64000, 74088, 85184, 91125, 97336, 110592, 125000, 140608, 157464, 166375, 175616, 195112, 216000, 238328, 262144, 274625, 287496, 314432, 343000, 373248, 405224, 421875, 438976, 474552, 512000, 551368, 592704, 614125, 636056, 681472, 729000, 778688, 830584, 857375, 884736, 941192]\n"
     ]
    }
   ],
   "source": [
    "print(list1)"
   ]
  },
  {
   "cell_type": "code",
   "execution_count": 11,
   "id": "cb3d5b19-efb3-4d18-90f1-58f1c0707a14",
   "metadata": {},
   "outputs": [
    {
     "name": "stdout",
     "output_type": "stream",
     "text": [
      "[1, 8, 27, 64, 125, 216, 343, 512, 729, 1000, 1331, 1728, 2197, 2744, 3375, 4096, 4913, 5832, 6859, 8000, 9261, 10648, 12167, 13824, 15625, 17576, 19683, 21952, 24389, 27000, 29791, 32768, 35937, 39304, 42875, 46656, 50653, 54872, 59319, 64000, 68921, 74088, 79507, 85184, 91125, 97336, 103823, 110592, 117649, 125000, 132651, 140608, 148877, 157464, 166375, 175616, 185193, 195112, 205379, 216000, 226981, 238328, 250047, 262144, 274625, 287496, 300763, 314432, 328509, 343000, 357911, 373248, 389017, 405224, 421875, 438976, 456533, 474552, 493039, 512000, 531441, 551368, 571787, 592704, 614125, 636056, 658503, 681472, 704969, 729000, 753571, 778688, 804357, 830584, 857375, 884736, 912673, 941192, 970299, 1000000]\n"
     ]
    }
   ],
   "source": [
    "list2 = []\n",
    "n = 1\n",
    "while n<=100:\n",
    "    list2.append(n**3)\n",
    "    n = n+1\n",
    "print(list2)\n",
    "   "
   ]
  },
  {
   "cell_type": "code",
   "execution_count": 12,
   "id": "159adeb1-c627-4d37-ab18-95bbcffe1565",
   "metadata": {},
   "outputs": [],
   "source": [
    "list2 = [i for i in list2 if i %4==0 or i%5==0]"
   ]
  },
  {
   "cell_type": "code",
   "execution_count": 13,
   "id": "7677d96f-aec3-46de-a14f-0a0862049574",
   "metadata": {},
   "outputs": [
    {
     "name": "stdout",
     "output_type": "stream",
     "text": [
      "[8, 64, 125, 216, 512, 1000, 1728, 2744, 3375, 4096, 5832, 8000, 10648, 13824, 15625, 17576, 21952, 27000, 32768, 39304, 42875, 46656, 54872, 64000, 74088, 85184, 91125, 97336, 110592, 125000, 140608, 157464, 166375, 175616, 195112, 216000, 238328, 262144, 274625, 287496, 314432, 343000, 373248, 405224, 421875, 438976, 474552, 512000, 551368, 592704, 614125, 636056, 681472, 729000, 778688, 830584, 857375, 884736, 941192, 1000000]\n"
     ]
    }
   ],
   "source": [
    "print(list2)"
   ]
  },
  {
   "cell_type": "markdown",
   "id": "0131560b-e15a-4596-a220-99a42c0fa668",
   "metadata": {},
   "source": [
    "Write a program to filter count vowels in the below-given string."
   ]
  },
  {
   "cell_type": "code",
   "execution_count": 15,
   "id": "8060d456-8cbf-4123-b58a-f2ebe46fa29d",
   "metadata": {},
   "outputs": [
    {
     "name": "stdout",
     "output_type": "stream",
     "text": [
      "Vowels :  ['I', 'a', 'o', 'e', 'o', 'e', 'a', 'a', 'a', 'i', 'e', 'i']\n",
      "No of Vowels :  12\n"
     ]
    }
   ],
   "source": [
    "string=list(\"I want to become a data scientist\")\n",
    "def vowel(x):\n",
    "    v=('a','e','i','o','u', 'A','E','I','O','U')\n",
    "    return x in v\n",
    "\n",
    "b=list(filter(vowel,string))\n",
    "print(\"Vowels : \",b)\n",
    "print(\"No of Vowels : \",len(b))"
   ]
  },
  {
   "cell_type": "code",
   "execution_count": null,
   "id": "cf05b76b-2cf4-4094-a652-44e260ed25b6",
   "metadata": {},
   "outputs": [],
   "source": []
  }
 ],
 "metadata": {
  "kernelspec": {
   "display_name": "Python 3 (ipykernel)",
   "language": "python",
   "name": "python3"
  },
  "language_info": {
   "codemirror_mode": {
    "name": "ipython",
    "version": 3
   },
   "file_extension": ".py",
   "mimetype": "text/x-python",
   "name": "python",
   "nbconvert_exporter": "python",
   "pygments_lexer": "ipython3",
   "version": "3.10.8"
  }
 },
 "nbformat": 4,
 "nbformat_minor": 5
}
